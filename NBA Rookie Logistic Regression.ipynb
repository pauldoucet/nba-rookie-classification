{
 "cells": [
  {
   "cell_type": "code",
   "execution_count": 11,
   "id": "14be3531",
   "metadata": {},
   "outputs": [],
   "source": [
    "import pandas as pd\n",
    "import numpy as np\n",
    "import seaborn\n",
    "import matplotlib.pyplot as plt\n",
    "from sklearn.model_selection import train_test_split"
   ]
  },
  {
   "cell_type": "markdown",
   "id": "deaff8f3",
   "metadata": {},
   "source": [
    "## 1 - Data loading and cleaning\n",
    "We first load the csv file into a panda dataframe and drop every row with missing information (i.e. a null value)"
   ]
  },
  {
   "cell_type": "code",
   "execution_count": 12,
   "id": "b99c46d3",
   "metadata": {},
   "outputs": [
    {
     "data": {
      "text/html": [
       "<div>\n",
       "<style scoped>\n",
       "    .dataframe tbody tr th:only-of-type {\n",
       "        vertical-align: middle;\n",
       "    }\n",
       "\n",
       "    .dataframe tbody tr th {\n",
       "        vertical-align: top;\n",
       "    }\n",
       "\n",
       "    .dataframe thead th {\n",
       "        text-align: right;\n",
       "    }\n",
       "</style>\n",
       "<table border=\"1\" class=\"dataframe\">\n",
       "  <thead>\n",
       "    <tr style=\"text-align: right;\">\n",
       "      <th></th>\n",
       "      <th>Name</th>\n",
       "      <th>GP</th>\n",
       "      <th>MIN</th>\n",
       "      <th>PTS</th>\n",
       "      <th>FGM</th>\n",
       "      <th>FGA</th>\n",
       "      <th>FG%</th>\n",
       "      <th>3P Made</th>\n",
       "      <th>3PA</th>\n",
       "      <th>3P%</th>\n",
       "      <th>...</th>\n",
       "      <th>FTA</th>\n",
       "      <th>FT%</th>\n",
       "      <th>OREB</th>\n",
       "      <th>DREB</th>\n",
       "      <th>REB</th>\n",
       "      <th>AST</th>\n",
       "      <th>STL</th>\n",
       "      <th>BLK</th>\n",
       "      <th>TOV</th>\n",
       "      <th>TARGET_5Yrs</th>\n",
       "    </tr>\n",
       "  </thead>\n",
       "  <tbody>\n",
       "    <tr>\n",
       "      <th>0</th>\n",
       "      <td>Brandon Ingram</td>\n",
       "      <td>36</td>\n",
       "      <td>27.4</td>\n",
       "      <td>7.4</td>\n",
       "      <td>2.6</td>\n",
       "      <td>7.6</td>\n",
       "      <td>34.7</td>\n",
       "      <td>0.5</td>\n",
       "      <td>2.1</td>\n",
       "      <td>25.0</td>\n",
       "      <td>...</td>\n",
       "      <td>2.3</td>\n",
       "      <td>69.9</td>\n",
       "      <td>0.7</td>\n",
       "      <td>3.4</td>\n",
       "      <td>4.1</td>\n",
       "      <td>1.9</td>\n",
       "      <td>0.4</td>\n",
       "      <td>0.4</td>\n",
       "      <td>1.3</td>\n",
       "      <td>0.0</td>\n",
       "    </tr>\n",
       "    <tr>\n",
       "      <th>1</th>\n",
       "      <td>Andrew Harrison</td>\n",
       "      <td>35</td>\n",
       "      <td>26.9</td>\n",
       "      <td>7.2</td>\n",
       "      <td>2.0</td>\n",
       "      <td>6.7</td>\n",
       "      <td>29.6</td>\n",
       "      <td>0.7</td>\n",
       "      <td>2.8</td>\n",
       "      <td>23.5</td>\n",
       "      <td>...</td>\n",
       "      <td>3.4</td>\n",
       "      <td>76.5</td>\n",
       "      <td>0.5</td>\n",
       "      <td>2.0</td>\n",
       "      <td>2.4</td>\n",
       "      <td>3.7</td>\n",
       "      <td>1.1</td>\n",
       "      <td>0.5</td>\n",
       "      <td>1.6</td>\n",
       "      <td>0.0</td>\n",
       "    </tr>\n",
       "    <tr>\n",
       "      <th>2</th>\n",
       "      <td>JaKarr Sampson</td>\n",
       "      <td>74</td>\n",
       "      <td>15.3</td>\n",
       "      <td>5.2</td>\n",
       "      <td>2.0</td>\n",
       "      <td>4.7</td>\n",
       "      <td>42.2</td>\n",
       "      <td>0.4</td>\n",
       "      <td>1.7</td>\n",
       "      <td>24.4</td>\n",
       "      <td>...</td>\n",
       "      <td>1.3</td>\n",
       "      <td>67.0</td>\n",
       "      <td>0.5</td>\n",
       "      <td>1.7</td>\n",
       "      <td>2.2</td>\n",
       "      <td>1.0</td>\n",
       "      <td>0.5</td>\n",
       "      <td>0.3</td>\n",
       "      <td>1.0</td>\n",
       "      <td>0.0</td>\n",
       "    </tr>\n",
       "    <tr>\n",
       "      <th>3</th>\n",
       "      <td>Malik Sealy</td>\n",
       "      <td>58</td>\n",
       "      <td>11.6</td>\n",
       "      <td>5.7</td>\n",
       "      <td>2.3</td>\n",
       "      <td>5.5</td>\n",
       "      <td>42.6</td>\n",
       "      <td>0.1</td>\n",
       "      <td>0.5</td>\n",
       "      <td>22.6</td>\n",
       "      <td>...</td>\n",
       "      <td>1.3</td>\n",
       "      <td>68.9</td>\n",
       "      <td>1.0</td>\n",
       "      <td>0.9</td>\n",
       "      <td>1.9</td>\n",
       "      <td>0.8</td>\n",
       "      <td>0.6</td>\n",
       "      <td>0.1</td>\n",
       "      <td>1.0</td>\n",
       "      <td>1.0</td>\n",
       "    </tr>\n",
       "    <tr>\n",
       "      <th>4</th>\n",
       "      <td>Matt Geiger</td>\n",
       "      <td>48</td>\n",
       "      <td>11.5</td>\n",
       "      <td>4.5</td>\n",
       "      <td>1.6</td>\n",
       "      <td>3.0</td>\n",
       "      <td>52.4</td>\n",
       "      <td>0.0</td>\n",
       "      <td>0.1</td>\n",
       "      <td>0.0</td>\n",
       "      <td>...</td>\n",
       "      <td>1.9</td>\n",
       "      <td>67.4</td>\n",
       "      <td>1.0</td>\n",
       "      <td>1.5</td>\n",
       "      <td>2.5</td>\n",
       "      <td>0.3</td>\n",
       "      <td>0.3</td>\n",
       "      <td>0.4</td>\n",
       "      <td>0.8</td>\n",
       "      <td>1.0</td>\n",
       "    </tr>\n",
       "  </tbody>\n",
       "</table>\n",
       "<p>5 rows × 21 columns</p>\n",
       "</div>"
      ],
      "text/plain": [
       "              Name  GP   MIN  PTS  FGM  FGA   FG%  3P Made  3PA   3P%  ...  \\\n",
       "0   Brandon Ingram  36  27.4  7.4  2.6  7.6  34.7      0.5  2.1  25.0  ...   \n",
       "1  Andrew Harrison  35  26.9  7.2  2.0  6.7  29.6      0.7  2.8  23.5  ...   \n",
       "2   JaKarr Sampson  74  15.3  5.2  2.0  4.7  42.2      0.4  1.7  24.4  ...   \n",
       "3      Malik Sealy  58  11.6  5.7  2.3  5.5  42.6      0.1  0.5  22.6  ...   \n",
       "4      Matt Geiger  48  11.5  4.5  1.6  3.0  52.4      0.0  0.1   0.0  ...   \n",
       "\n",
       "   FTA   FT%  OREB  DREB  REB  AST  STL  BLK  TOV  TARGET_5Yrs  \n",
       "0  2.3  69.9   0.7   3.4  4.1  1.9  0.4  0.4  1.3          0.0  \n",
       "1  3.4  76.5   0.5   2.0  2.4  3.7  1.1  0.5  1.6          0.0  \n",
       "2  1.3  67.0   0.5   1.7  2.2  1.0  0.5  0.3  1.0          0.0  \n",
       "3  1.3  68.9   1.0   0.9  1.9  0.8  0.6  0.1  1.0          1.0  \n",
       "4  1.9  67.4   1.0   1.5  2.5  0.3  0.3  0.4  0.8          1.0  \n",
       "\n",
       "[5 rows x 21 columns]"
      ]
     },
     "execution_count": 12,
     "metadata": {},
     "output_type": "execute_result"
    }
   ],
   "source": [
    "data = pd.read_csv(\"nba_logreg.csv\")\n",
    "data = data.dropna()\n",
    "data.head()"
   ]
  },
  {
   "cell_type": "markdown",
   "id": "745f3d71",
   "metadata": {},
   "source": [
    "#### Visualisation of the data and balancing\n",
    "In this step we get the number of players classified in both categories. We realise that the data is already quite balanced and doesn't necessarily require balancing."
   ]
  },
  {
   "cell_type": "code",
   "execution_count": 13,
   "id": "ab97731a",
   "metadata": {},
   "outputs": [
    {
     "data": {
      "image/png": "[encoded data removed]",
      "text/plain": [
       "<Figure size 432x288 with 1 Axes>"
      ]
     },
     "metadata": {
      "needs_background": "light"
     },
     "output_type": "display_data"
    }
   ],
   "source": [
    "seaborn.countplot(x=\"TARGET_5Yrs\", data=data)\n",
    "plt.show()"
   ]
  },
  {
   "cell_type": "markdown",
   "id": "82950fc4",
   "metadata": {},
   "source": [
    "#### Data insight\n",
    "We group each row by category, intuitivly the mean stats of the player who play in the nba for more than 5 years in the nba are higher\n",
    "\n",
    "Rookie ending up playing more than 5 years play more, score more, get more rebounds, assists.\n",
    "\n",
    "#### Counter-intuitive observations\n",
    "- 3P% : We notice that rookies classified as 1 have a slightly worst 3 points percentage on average but a bigger 3 points attempts number. Which means that rookies ending up being successful in the nba seems to attemps more 3 points even though it doesn't always pay up.\n",
    "\n",
    "- TOV : Also the number of turn-overs is higher for rookies classified as 1, which means they lose the ball more. This is likely correlated with the fact that they play more in average and then get more chance to lose the ball during the match."
   ]
  },
  {
   "cell_type": "code",
   "execution_count": 14,
   "id": "d9c83652",
   "metadata": {},
   "outputs": [
    {
     "data": {
      "text/html": [
       "<div>\n",
       "<style scoped>\n",
       "    .dataframe tbody tr th:only-of-type {\n",
       "        vertical-align: middle;\n",
       "    }\n",
       "\n",
       "    .dataframe tbody tr th {\n",
       "        vertical-align: top;\n",
       "    }\n",
       "\n",
       "    .dataframe thead th {\n",
       "        text-align: right;\n",
       "    }\n",
       "</style>\n",
       "<table border=\"1\" class=\"dataframe\">\n",
       "  <thead>\n",
       "    <tr style=\"text-align: right;\">\n",
       "      <th></th>\n",
       "      <th>GP</th>\n",
       "      <th>MIN</th>\n",
       "      <th>PTS</th>\n",
       "      <th>FGM</th>\n",
       "      <th>FGA</th>\n",
       "      <th>FG%</th>\n",
       "      <th>3P Made</th>\n",
       "      <th>3PA</th>\n",
       "      <th>3P%</th>\n",
       "      <th>FTM</th>\n",
       "      <th>FTA</th>\n",
       "      <th>FT%</th>\n",
       "      <th>OREB</th>\n",
       "      <th>DREB</th>\n",
       "      <th>REB</th>\n",
       "      <th>AST</th>\n",
       "      <th>STL</th>\n",
       "      <th>BLK</th>\n",
       "      <th>TOV</th>\n",
       "    </tr>\n",
       "    <tr>\n",
       "      <th>TARGET_5Yrs</th>\n",
       "      <th></th>\n",
       "      <th></th>\n",
       "      <th></th>\n",
       "      <th></th>\n",
       "      <th></th>\n",
       "      <th></th>\n",
       "      <th></th>\n",
       "      <th></th>\n",
       "      <th></th>\n",
       "      <th></th>\n",
       "      <th></th>\n",
       "      <th></th>\n",
       "      <th></th>\n",
       "      <th></th>\n",
       "      <th></th>\n",
       "      <th></th>\n",
       "      <th></th>\n",
       "      <th></th>\n",
       "      <th></th>\n",
       "    </tr>\n",
       "  </thead>\n",
       "  <tbody>\n",
       "    <tr>\n",
       "      <th>0.0</th>\n",
       "      <td>51.495030</td>\n",
       "      <td>14.276740</td>\n",
       "      <td>5.060636</td>\n",
       "      <td>1.951093</td>\n",
       "      <td>4.562425</td>\n",
       "      <td>42.270775</td>\n",
       "      <td>0.232406</td>\n",
       "      <td>0.763618</td>\n",
       "      <td>19.378131</td>\n",
       "      <td>0.928231</td>\n",
       "      <td>1.324254</td>\n",
       "      <td>69.122266</td>\n",
       "      <td>0.713519</td>\n",
       "      <td>1.522863</td>\n",
       "      <td>2.234592</td>\n",
       "      <td>1.230815</td>\n",
       "      <td>0.500000</td>\n",
       "      <td>0.249901</td>\n",
       "      <td>0.944732</td>\n",
       "    </tr>\n",
       "    <tr>\n",
       "      <th>1.0</th>\n",
       "      <td>65.826877</td>\n",
       "      <td>19.700847</td>\n",
       "      <td>7.891646</td>\n",
       "      <td>3.051090</td>\n",
       "      <td>6.718523</td>\n",
       "      <td>45.242131</td>\n",
       "      <td>0.260169</td>\n",
       "      <td>0.799031</td>\n",
       "      <td>19.265496</td>\n",
       "      <td>1.530872</td>\n",
       "      <td>2.133656</td>\n",
       "      <td>71.189588</td>\n",
       "      <td>1.186683</td>\n",
       "      <td>2.325061</td>\n",
       "      <td>3.511864</td>\n",
       "      <td>1.758838</td>\n",
       "      <td>0.693705</td>\n",
       "      <td>0.436925</td>\n",
       "      <td>1.349031</td>\n",
       "    </tr>\n",
       "  </tbody>\n",
       "</table>\n",
       "</div>"
      ],
      "text/plain": [
       "                    GP        MIN       PTS       FGM       FGA        FG%  \\\n",
       "TARGET_5Yrs                                                                  \n",
       "0.0          51.495030  14.276740  5.060636  1.951093  4.562425  42.270775   \n",
       "1.0          65.826877  19.700847  7.891646  3.051090  6.718523  45.242131   \n",
       "\n",
       "              3P Made       3PA        3P%       FTM       FTA        FT%  \\\n",
       "TARGET_5Yrs                                                                 \n",
       "0.0          0.232406  0.763618  19.378131  0.928231  1.324254  69.122266   \n",
       "1.0          0.260169  0.799031  19.265496  1.530872  2.133656  71.189588   \n",
       "\n",
       "                 OREB      DREB       REB       AST       STL       BLK  \\\n",
       "TARGET_5Yrs                                                               \n",
       "0.0          0.713519  1.522863  2.234592  1.230815  0.500000  0.249901   \n",
       "1.0          1.186683  2.325061  3.511864  1.758838  0.693705  0.436925   \n",
       "\n",
       "                  TOV  \n",
       "TARGET_5Yrs            \n",
       "0.0          0.944732  \n",
       "1.0          1.349031  "
      ]
     },
     "execution_count": 14,
     "metadata": {},
     "output_type": "execute_result"
    }
   ],
   "source": [
    "data.groupby('TARGET_5Yrs').mean()"
   ]
  },
  {
   "cell_type": "markdown",
   "id": "e544e3b0",
   "metadata": {},
   "source": [
    "#### Determining good predictors\n",
    "We draw a distribution graph for every variable and compare the distribution for players classified as 0 and the ones classified as 1.\n",
    "We then redraw each graph which seems to indicate a good predictor."
   ]
  },
  {
   "cell_type": "code",
   "execution_count": 15,
   "id": "08efbeab",
   "metadata": {},
   "outputs": [
    {
     "data": {
      "image/png": "[encoded data removed]",
      "text/plain": [
       "<Figure size 432x288 with 20 Axes>"
      ]
     },
     "metadata": {
      "needs_background": "light"
     },
     "output_type": "display_data"
    }
   ],
   "source": [
    "plot_per_line = 2\n",
    "\n",
    "nbr_rows = len(data.columns) // plot_per_line\n",
    "\n",
    "for i in range(len(data.columns) - 1):\n",
    "    ax = plt.subplot(nbr_rows, plot_per_line, (i + 1))\n",
    "    pd.crosstab(data[data.columns[i]], data.TARGET_5Yrs).plot(ax=ax, legend=None)\n",
    "\n",
    "plt.show()"
   ]
  },
  {
   "cell_type": "code",
   "execution_count": 16,
   "id": "0feed8f2",
   "metadata": {
    "scrolled": true
   },
   "outputs": [
    {
     "data": {
      "image/png": "[encoded data removed]",
      "text/plain": [
       "<Figure size 432x288 with 1 Axes>"
      ]
     },
     "metadata": {
      "needs_background": "light"
     },
     "output_type": "display_data"
    }
   ],
   "source": [
    "pd.crosstab(data.GP, data.TARGET_5Yrs).plot()\n",
    "plt.show()"
   ]
  },
  {
   "cell_type": "markdown",
   "id": "a12d3b30",
   "metadata": {},
   "source": [
    "The number of game played seems to be a good predictor when the number of game played is more than 75"
   ]
  },
  {
   "cell_type": "markdown",
   "id": "07173f51",
   "metadata": {},
   "source": [
    "#### More data cleaning and normalizing\n",
    "We remove the name column which is meaningless for our model, we also normalize the data using the sklearn library. Finally we split our data into training and test data."
   ]
  },
  {
   "cell_type": "code",
   "execution_count": 26,
   "id": "13989b61",
   "metadata": {},
   "outputs": [
    {
     "name": "stdout",
     "output_type": "stream",
     "text": [
      "(1129, 19)\n",
      "(200, 19)\n"
     ]
    }
   ],
   "source": [
    "from sklearn import preprocessing\n",
    "\n",
    "# Select the data\n",
    "X = data.loc[:, data.columns != \"TARGET_5Yrs\"]\n",
    "\n",
    "# Select the labels\n",
    "y = data.loc[:, \"TARGET_5Yrs\"]\n",
    "\n",
    "# Remove the name column\n",
    "X = X.loc[:, X.columns != \"Name\"]\n",
    "\n",
    "# Normalize the data\n",
    "scaler = preprocessing.StandardScaler().fit(X)\n",
    "X_scaled = scaler.transform(X)\n",
    "\n",
    "# Split data into training and test data\n",
    "X_train, X_test, y_train, y_test = train_test_split(X_scaled, y, test_size=0.15, random_state=42)\n",
    "\n",
    "print(X_train.shape)\n",
    "print(X_test.shape)"
   ]
  },
  {
   "cell_type": "markdown",
   "id": "72c92632",
   "metadata": {},
   "source": [
    "#### Meaningful features selection\n",
    "First we use the statsmodels library to perform logistic regression from a statistic point of view. This library will compute p-values for us and determine which feature are considered significant."
   ]
  },
  {
   "cell_type": "code",
   "execution_count": 27,
   "id": "79e2c0f8",
   "metadata": {},
   "outputs": [
    {
     "name": "stdout",
     "output_type": "stream",
     "text": [
      "<class 'pandas.core.series.Series'>\n",
      "Optimization terminated successfully.\n",
      "         Current function value: 0.590316\n",
      "         Iterations 5\n",
      "                         Results: Logit\n",
      "=================================================================\n",
      "Model:              Logit            Pseudo R-squared: 0.117     \n",
      "Dependent Variable: y                AIC:              1370.9346 \n",
      "Date:               2022-01-01 17:18 BIC:              1466.4873 \n",
      "No. Observations:   1129             Log-Likelihood:   -666.47   \n",
      "Df Model:           18               LL-Null:          -754.43   \n",
      "Df Residuals:       1110             LLR p-value:      6.1526e-28\n",
      "Converged:          1.0000           Scale:            1.0000    \n",
      "No. Iterations:     5.0000                                       \n",
      "-------------------------------------------------------------------\n",
      "           Coef.    Std.Err.      z      P>|z|     [0.025    0.975]\n",
      "-------------------------------------------------------------------\n",
      "x1         0.5957     0.0887    6.7143   0.0000    0.4218    0.7696\n",
      "x2        -0.2756     0.2694   -1.0229   0.3063   -0.8037    0.2525\n",
      "x3        -1.1339     3.9543   -0.2867   0.7743   -8.8842    6.6165\n",
      "x4        -0.6385     3.0242   -0.2111   0.8328   -6.5657    5.2888\n",
      "x5         1.7087     0.7979    2.1415   0.0322    0.1448    3.2726\n",
      "x6         0.4171     0.1363    3.0599   0.0022    0.1499    0.6843\n",
      "x7         1.0322     0.5240    1.9699   0.0489    0.0052    2.0592\n",
      "x8        -0.9392     0.4438   -2.1164   0.0343   -1.8091   -0.0694\n",
      "x9         0.1028     0.0868    1.1845   0.2362   -0.0673    0.2728\n",
      "x10        0.4433     1.0413    0.4257   0.6703   -1.5976    2.4842\n",
      "x11       -0.1555     0.6140   -0.2532   0.8001   -1.3589    1.0480\n",
      "x12        0.1253     0.1149    1.0905   0.2755   -0.0999    0.3504\n",
      "x13        0.4281     1.0548    0.4059   0.6848   -1.6393    2.4955\n",
      "x14       -0.5154     1.8295   -0.2817   0.7782   -4.1011    3.0704\n",
      "x15        0.4198     2.7648    0.1518   0.8793   -4.9990    5.8386\n",
      "x16        0.3146     0.1547    2.0345   0.0419    0.0115    0.6178\n",
      "x17       -0.0313     0.1254   -0.2499   0.8027   -0.2772    0.2145\n",
      "x18        0.2039     0.1044    1.9524   0.0509   -0.0008    0.4086\n",
      "x19       -0.0944     0.1898   -0.4974   0.6189   -0.4663    0.2775\n",
      "=================================================================\n",
      "\n"
     ]
    }
   ],
   "source": [
    "from sklearn.feature_selection import RFE\n",
    "from sklearn.linear_model import LogisticRegression\n",
    "import statsmodels.api as sm\n",
    "print(type(y_train))\n",
    "logit_model = sm.Logit(np.asarray(y_train), X_train)\n",
    "result = logit_model.fit()\n",
    "print(result.summary2())"
   ]
  },
  {
   "cell_type": "markdown",
   "id": "e27f23de",
   "metadata": {},
   "source": [
    "#### Interpretation of p-values\n",
    "\n",
    "p-values above 0.05 are not considered statistically significant, hence we can remove the following features x2: MIN, x3: PTS, x4: FGM, x9: 3P%, x10: FTM, x11: FTA, x12: FT%, x13: OREB, x14: DREB, x15: REB, x17: STL, x19: TOV\n",
    "\n",
    "\n",
    "We can also notice that our insight that the feature GP (number of Games Played) will make a good predictor was right. As a matter of fact its p-value is 0.00000. Also the 3P% and TOV are bad predictors as expected (with p-value higher 0.05 hence not statistically significant)."
   ]
  },
  {
   "cell_type": "code",
   "execution_count": 78,
   "id": "051a928b",
   "metadata": {},
   "outputs": [],
   "source": [
    "# we only select features x1, x5, x6, x7, x8, x16, x18 (columns 0, 4, 5, 6, 7, 15, 17)\n",
    "X_reduced = X_scaled[:, [0, 4, 5, 6, 7, 15, 17]]\n",
    "\n",
    "# Split data into training and test data with the new data\n",
    "X_train, X_test, y_train, y_test = train_test_split(X_reduced, y, test_size=0.15, random_state=42)"
   ]
  },
  {
   "cell_type": "markdown",
   "id": "ec8dea34",
   "metadata": {},
   "source": [
    "## 2 - Model fitting\n",
    "Now that the data is cleaned, and only meaningful features are selected, we can run the logistic regression algorithm with the sklearn."
   ]
  },
  {
   "cell_type": "code",
   "execution_count": 79,
   "id": "10d44094",
   "metadata": {},
   "outputs": [
    {
     "name": "stdout",
     "output_type": "stream",
     "text": [
      "0.74\n"
     ]
    }
   ],
   "source": [
    "from sklearn.linear_model import LogisticRegression\n",
    "from sklearn import metrics\n",
    "\n",
    "logreg = LogisticRegression(max_iter=200)\n",
    "logreg.fit(X_train, y_train)\n",
    "\n",
    "print(logreg.score(X_test, y_test))"
   ]
  },
  {
   "cell_type": "markdown",
   "id": "b90c441a",
   "metadata": {},
   "source": [
    "## 3 - Model evaluation\n",
    "We compute the confusion matrix, precision, recall and f1-score."
   ]
  },
  {
   "cell_type": "code",
   "execution_count": 80,
   "id": "56b2a71c",
   "metadata": {},
   "outputs": [
    {
     "name": "stdout",
     "output_type": "stream",
     "text": [
      "[[ 36  28]\n",
      " [ 24 112]]\n"
     ]
    }
   ],
   "source": [
    "from sklearn.metrics import confusion_matrix\n",
    "\n",
    "y_pred = logreg.predict(X_test)\n",
    "confusion_matrix = confusion_matrix(y_test, y_pred)\n",
    "print(confusion_matrix)"
   ]
  },
  {
   "cell_type": "code",
   "execution_count": 81,
   "id": "c7d3f36b",
   "metadata": {},
   "outputs": [
    {
     "name": "stdout",
     "output_type": "stream",
     "text": [
      "              precision    recall  f1-score   support\n",
      "\n",
      "         0.0       0.60      0.56      0.58        64\n",
      "         1.0       0.80      0.82      0.81       136\n",
      "\n",
      "    accuracy                           0.74       200\n",
      "   macro avg       0.70      0.69      0.70       200\n",
      "weighted avg       0.74      0.74      0.74       200\n",
      "\n"
     ]
    }
   ],
   "source": [
    "from sklearn.metrics import classification_report\n",
    "print(classification_report(y_test, y_pred))"
   ]
  },
  {
   "cell_type": "markdown",
   "id": "e70b4427",
   "metadata": {},
   "source": [
    "#### Interpretation of precision and recall for our model\n",
    "\n",
    "Precision and recall is way higher for class 1, which means our model is better for classifying players that will be successful in the NBA, i.e. it will most likely classify most of the successful players as 1 and not wrongly classify unsuccessful players as 1.\n",
    "\n",
    "On the other hand precision and recall is lower for class 0, which means our model might not classify all the unsuccessful players as 0 and players classified as 0 might still be successful."
   ]
  },
  {
   "cell_type": "code",
   "execution_count": null,
   "id": "428bda6e",
   "metadata": {},
   "outputs": [],
   "source": []
  }
 ],
 "metadata": {
  "kernelspec": {
   "display_name": "Python 3 (ipykernel)",
   "language": "python",
   "name": "python3"
  },
  "language_info": {
   "codemirror_mode": {
    "name": "ipython",
    "version": 3
   },
   "file_extension": ".py",
   "mimetype": "text/x-python",
   "name": "python",
   "nbconvert_exporter": "python",
   "pygments_lexer": "ipython3",
   "version": "3.9.5"
  }
 },
 "nbformat": 4,
 "nbformat_minor": 5
}
