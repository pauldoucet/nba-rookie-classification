{
 "cells": [
  {
   "cell_type": "code",
   "execution_count": 5,
   "metadata": {},
   "outputs": [],
   "source": [
    "import pandas as pd\n",
    "import numpy as np\n",
    "import seaborn\n",
    "import matplotlib.pyplot as plt\n",
    "from sklearn.model_selection import train_test_split"
   ]
  },
  {
   "cell_type": "code",
   "execution_count": 6,
   "metadata": {},
   "outputs": [
    {
     "data": {
      "application/javascript": [
       "var rate = 0;\n",
       "// apply setting to  all current CodeMirror instances\n",
       "IPython.notebook.get_cells().map(\n",
       "    function(c) {  return c.code_mirror.options.cursorBlinkRate=rate;  }\n",
       ");\n",
       "\n",
       "// make sure new CodeMirror instance also use this setting\n",
       "CodeMirror.defaults.cursorBlinkRate=rate;\n"
      ],
      "text/plain": [
       "<IPython.core.display.Javascript object>"
      ]
     },
     "metadata": {},
     "output_type": "display_data"
    }
   ],
   "source": [
    "%%javascript\n",
    "var rate = 0;\n",
    "// apply setting to  all current CodeMirror instances\n",
    "IPython.notebook.get_cells().map(\n",
    "    function(c) {  return c.code_mirror.options.cursorBlinkRate=rate;  }\n",
    ");\n",
    "\n",
    "// make sure new CodeMirror instance also use this setting\n",
    "CodeMirror.defaults.cursorBlinkRate=rate;"
   ]
  },
  {
   "cell_type": "markdown",
   "metadata": {},
   "source": [
    "## 1 - Data loading and cleaning\n",
    "We first load the csv file into a panda dataframe and drop every row with missing information (i.e. a null value)"
   ]
  },
  {
   "cell_type": "code",
   "execution_count": 7,
   "metadata": {},
   "outputs": [
    {
     "data": {
      "text/html": [
       "<div>\n",
       "<style scoped>\n",
       "    .dataframe tbody tr th:only-of-type {\n",
       "        vertical-align: middle;\n",
       "    }\n",
       "\n",
       "    .dataframe tbody tr th {\n",
       "        vertical-align: top;\n",
       "    }\n",
       "\n",
       "    .dataframe thead th {\n",
       "        text-align: right;\n",
       "    }\n",
       "</style>\n",
       "<table border=\"1\" class=\"dataframe\">\n",
       "  <thead>\n",
       "    <tr style=\"text-align: right;\">\n",
       "      <th></th>\n",
       "      <th>Name</th>\n",
       "      <th>GP</th>\n",
       "      <th>MIN</th>\n",
       "      <th>PTS</th>\n",
       "      <th>FGM</th>\n",
       "      <th>FGA</th>\n",
       "      <th>FG%</th>\n",
       "      <th>3P Made</th>\n",
       "      <th>3PA</th>\n",
       "      <th>3P%</th>\n",
       "      <th>...</th>\n",
       "      <th>FTA</th>\n",
       "      <th>FT%</th>\n",
       "      <th>OREB</th>\n",
       "      <th>DREB</th>\n",
       "      <th>REB</th>\n",
       "      <th>AST</th>\n",
       "      <th>STL</th>\n",
       "      <th>BLK</th>\n",
       "      <th>TOV</th>\n",
       "      <th>TARGET_5Yrs</th>\n",
       "    </tr>\n",
       "  </thead>\n",
       "  <tbody>\n",
       "    <tr>\n",
       "      <th>0</th>\n",
       "      <td>Brandon Ingram</td>\n",
       "      <td>36</td>\n",
       "      <td>27.4</td>\n",
       "      <td>7.4</td>\n",
       "      <td>2.6</td>\n",
       "      <td>7.6</td>\n",
       "      <td>34.7</td>\n",
       "      <td>0.5</td>\n",
       "      <td>2.1</td>\n",
       "      <td>25.0</td>\n",
       "      <td>...</td>\n",
       "      <td>2.3</td>\n",
       "      <td>69.9</td>\n",
       "      <td>0.7</td>\n",
       "      <td>3.4</td>\n",
       "      <td>4.1</td>\n",
       "      <td>1.9</td>\n",
       "      <td>0.4</td>\n",
       "      <td>0.4</td>\n",
       "      <td>1.3</td>\n",
       "      <td>0.0</td>\n",
       "    </tr>\n",
       "    <tr>\n",
       "      <th>1</th>\n",
       "      <td>Andrew Harrison</td>\n",
       "      <td>35</td>\n",
       "      <td>26.9</td>\n",
       "      <td>7.2</td>\n",
       "      <td>2.0</td>\n",
       "      <td>6.7</td>\n",
       "      <td>29.6</td>\n",
       "      <td>0.7</td>\n",
       "      <td>2.8</td>\n",
       "      <td>23.5</td>\n",
       "      <td>...</td>\n",
       "      <td>3.4</td>\n",
       "      <td>76.5</td>\n",
       "      <td>0.5</td>\n",
       "      <td>2.0</td>\n",
       "      <td>2.4</td>\n",
       "      <td>3.7</td>\n",
       "      <td>1.1</td>\n",
       "      <td>0.5</td>\n",
       "      <td>1.6</td>\n",
       "      <td>0.0</td>\n",
       "    </tr>\n",
       "    <tr>\n",
       "      <th>2</th>\n",
       "      <td>JaKarr Sampson</td>\n",
       "      <td>74</td>\n",
       "      <td>15.3</td>\n",
       "      <td>5.2</td>\n",
       "      <td>2.0</td>\n",
       "      <td>4.7</td>\n",
       "      <td>42.2</td>\n",
       "      <td>0.4</td>\n",
       "      <td>1.7</td>\n",
       "      <td>24.4</td>\n",
       "      <td>...</td>\n",
       "      <td>1.3</td>\n",
       "      <td>67.0</td>\n",
       "      <td>0.5</td>\n",
       "      <td>1.7</td>\n",
       "      <td>2.2</td>\n",
       "      <td>1.0</td>\n",
       "      <td>0.5</td>\n",
       "      <td>0.3</td>\n",
       "      <td>1.0</td>\n",
       "      <td>0.0</td>\n",
       "    </tr>\n",
       "    <tr>\n",
       "      <th>3</th>\n",
       "      <td>Malik Sealy</td>\n",
       "      <td>58</td>\n",
       "      <td>11.6</td>\n",
       "      <td>5.7</td>\n",
       "      <td>2.3</td>\n",
       "      <td>5.5</td>\n",
       "      <td>42.6</td>\n",
       "      <td>0.1</td>\n",
       "      <td>0.5</td>\n",
       "      <td>22.6</td>\n",
       "      <td>...</td>\n",
       "      <td>1.3</td>\n",
       "      <td>68.9</td>\n",
       "      <td>1.0</td>\n",
       "      <td>0.9</td>\n",
       "      <td>1.9</td>\n",
       "      <td>0.8</td>\n",
       "      <td>0.6</td>\n",
       "      <td>0.1</td>\n",
       "      <td>1.0</td>\n",
       "      <td>1.0</td>\n",
       "    </tr>\n",
       "    <tr>\n",
       "      <th>4</th>\n",
       "      <td>Matt Geiger</td>\n",
       "      <td>48</td>\n",
       "      <td>11.5</td>\n",
       "      <td>4.5</td>\n",
       "      <td>1.6</td>\n",
       "      <td>3.0</td>\n",
       "      <td>52.4</td>\n",
       "      <td>0.0</td>\n",
       "      <td>0.1</td>\n",
       "      <td>0.0</td>\n",
       "      <td>...</td>\n",
       "      <td>1.9</td>\n",
       "      <td>67.4</td>\n",
       "      <td>1.0</td>\n",
       "      <td>1.5</td>\n",
       "      <td>2.5</td>\n",
       "      <td>0.3</td>\n",
       "      <td>0.3</td>\n",
       "      <td>0.4</td>\n",
       "      <td>0.8</td>\n",
       "      <td>1.0</td>\n",
       "    </tr>\n",
       "  </tbody>\n",
       "</table>\n",
       "<p>5 rows × 21 columns</p>\n",
       "</div>"
      ],
      "text/plain": [
       "              Name  GP   MIN  PTS  FGM  FGA   FG%  3P Made  3PA   3P%  ...  \\\n",
       "0   Brandon Ingram  36  27.4  7.4  2.6  7.6  34.7      0.5  2.1  25.0  ...   \n",
       "1  Andrew Harrison  35  26.9  7.2  2.0  6.7  29.6      0.7  2.8  23.5  ...   \n",
       "2   JaKarr Sampson  74  15.3  5.2  2.0  4.7  42.2      0.4  1.7  24.4  ...   \n",
       "3      Malik Sealy  58  11.6  5.7  2.3  5.5  42.6      0.1  0.5  22.6  ...   \n",
       "4      Matt Geiger  48  11.5  4.5  1.6  3.0  52.4      0.0  0.1   0.0  ...   \n",
       "\n",
       "   FTA   FT%  OREB  DREB  REB  AST  STL  BLK  TOV  TARGET_5Yrs  \n",
       "0  2.3  69.9   0.7   3.4  4.1  1.9  0.4  0.4  1.3          0.0  \n",
       "1  3.4  76.5   0.5   2.0  2.4  3.7  1.1  0.5  1.6          0.0  \n",
       "2  1.3  67.0   0.5   1.7  2.2  1.0  0.5  0.3  1.0          0.0  \n",
       "3  1.3  68.9   1.0   0.9  1.9  0.8  0.6  0.1  1.0          1.0  \n",
       "4  1.9  67.4   1.0   1.5  2.5  0.3  0.3  0.4  0.8          1.0  \n",
       "\n",
       "[5 rows x 21 columns]"
      ]
     },
     "execution_count": 7,
     "metadata": {},
     "output_type": "execute_result"
    }
   ],
   "source": [
    "data = pd.read_csv(\"datasets/nba_logreg.csv\")\n",
    "data = data.dropna()\n",
    "data.head()"
   ]
  },
  {
   "cell_type": "markdown",
   "metadata": {},
   "source": [
    "#### Visualisation of the data and balancing\n",
    "In this step we get the number of players classified in both categories. We realise that the data is already quite balanced and doesn't necessarily require balancing."
   ]
  },
  {
   "cell_type": "code",
   "execution_count": 8,
   "metadata": {},
   "outputs": [
    {
     "data": {
      "image/png": "[encoded data removed]",
      "text/plain": [
       "<Figure size 432x288 with 1 Axes>"
      ]
     },
     "metadata": {
      "needs_background": "light"
     },
     "output_type": "display_data"
    }
   ],
   "source": [
    "seaborn.countplot(x=\"TARGET_5Yrs\", data=data)\n",
    "plt.show()"
   ]
  },
  {
   "cell_type": "markdown",
   "metadata": {},
   "source": [
    "#### Data insight\n",
    "We group each row by category, intuitivly the mean stats of the player who play in the nba for more than 5 years in the nba are higher\n",
    "\n",
    "Rookie ending up playing more than 5 years play more, score more, get more rebounds, assists.\n",
    "\n",
    "#### Counter-intuitive observations\n",
    "- 3P% : We notice that rookies classified as 1 have a slightly worst 3 points percentage on average but a bigger 3 points attempts number. Which means that rookies ending up being successful in the nba seems to attemps more 3 points even though it doesn't always pay up.\n",
    "\n",
    "- TOV : Also the number of turn-overs is higher for rookies classified as 1, which means they lose the ball more. This is likely correlated with the fact that they play more in average and then get more chance to lose the ball during the match."
   ]
  },
  {
   "cell_type": "code",
   "execution_count": 9,
   "metadata": {},
   "outputs": [
    {
     "data": {
      "text/html": [
       "<div>\n",
       "<style scoped>\n",
       "    .dataframe tbody tr th:only-of-type {\n",
       "        vertical-align: middle;\n",
       "    }\n",
       "\n",
       "    .dataframe tbody tr th {\n",
       "        vertical-align: top;\n",
       "    }\n",
       "\n",
       "    .dataframe thead th {\n",
       "        text-align: right;\n",
       "    }\n",
       "</style>\n",
       "<table border=\"1\" class=\"dataframe\">\n",
       "  <thead>\n",
       "    <tr style=\"text-align: right;\">\n",
       "      <th></th>\n",
       "      <th>GP</th>\n",
       "      <th>MIN</th>\n",
       "      <th>PTS</th>\n",
       "      <th>FGM</th>\n",
       "      <th>FGA</th>\n",
       "      <th>FG%</th>\n",
       "      <th>3P Made</th>\n",
       "      <th>3PA</th>\n",
       "      <th>3P%</th>\n",
       "      <th>FTM</th>\n",
       "      <th>FTA</th>\n",
       "      <th>FT%</th>\n",
       "      <th>OREB</th>\n",
       "      <th>DREB</th>\n",
       "      <th>REB</th>\n",
       "      <th>AST</th>\n",
       "      <th>STL</th>\n",
       "      <th>BLK</th>\n",
       "      <th>TOV</th>\n",
       "    </tr>\n",
       "    <tr>\n",
       "      <th>TARGET_5Yrs</th>\n",
       "      <th></th>\n",
       "      <th></th>\n",
       "      <th></th>\n",
       "      <th></th>\n",
       "      <th></th>\n",
       "      <th></th>\n",
       "      <th></th>\n",
       "      <th></th>\n",
       "      <th></th>\n",
       "      <th></th>\n",
       "      <th></th>\n",
       "      <th></th>\n",
       "      <th></th>\n",
       "      <th></th>\n",
       "      <th></th>\n",
       "      <th></th>\n",
       "      <th></th>\n",
       "      <th></th>\n",
       "      <th></th>\n",
       "    </tr>\n",
       "  </thead>\n",
       "  <tbody>\n",
       "    <tr>\n",
       "      <th>0.0</th>\n",
       "      <td>51.495030</td>\n",
       "      <td>14.276740</td>\n",
       "      <td>5.060636</td>\n",
       "      <td>1.951093</td>\n",
       "      <td>4.562425</td>\n",
       "      <td>42.270775</td>\n",
       "      <td>0.232406</td>\n",
       "      <td>0.763618</td>\n",
       "      <td>19.378131</td>\n",
       "      <td>0.928231</td>\n",
       "      <td>1.324254</td>\n",
       "      <td>69.122266</td>\n",
       "      <td>0.713519</td>\n",
       "      <td>1.522863</td>\n",
       "      <td>2.234592</td>\n",
       "      <td>1.230815</td>\n",
       "      <td>0.500000</td>\n",
       "      <td>0.249901</td>\n",
       "      <td>0.944732</td>\n",
       "    </tr>\n",
       "    <tr>\n",
       "      <th>1.0</th>\n",
       "      <td>65.826877</td>\n",
       "      <td>19.700847</td>\n",
       "      <td>7.891646</td>\n",
       "      <td>3.051090</td>\n",
       "      <td>6.718523</td>\n",
       "      <td>45.242131</td>\n",
       "      <td>0.260169</td>\n",
       "      <td>0.799031</td>\n",
       "      <td>19.265496</td>\n",
       "      <td>1.530872</td>\n",
       "      <td>2.133656</td>\n",
       "      <td>71.189588</td>\n",
       "      <td>1.186683</td>\n",
       "      <td>2.325061</td>\n",
       "      <td>3.511864</td>\n",
       "      <td>1.758838</td>\n",
       "      <td>0.693705</td>\n",
       "      <td>0.436925</td>\n",
       "      <td>1.349031</td>\n",
       "    </tr>\n",
       "  </tbody>\n",
       "</table>\n",
       "</div>"
      ],
      "text/plain": [
       "                    GP        MIN       PTS       FGM       FGA        FG%  \\\n",
       "TARGET_5Yrs                                                                  \n",
       "0.0          51.495030  14.276740  5.060636  1.951093  4.562425  42.270775   \n",
       "1.0          65.826877  19.700847  7.891646  3.051090  6.718523  45.242131   \n",
       "\n",
       "              3P Made       3PA        3P%       FTM       FTA        FT%  \\\n",
       "TARGET_5Yrs                                                                 \n",
       "0.0          0.232406  0.763618  19.378131  0.928231  1.324254  69.122266   \n",
       "1.0          0.260169  0.799031  19.265496  1.530872  2.133656  71.189588   \n",
       "\n",
       "                 OREB      DREB       REB       AST       STL       BLK  \\\n",
       "TARGET_5Yrs                                                               \n",
       "0.0          0.713519  1.522863  2.234592  1.230815  0.500000  0.249901   \n",
       "1.0          1.186683  2.325061  3.511864  1.758838  0.693705  0.436925   \n",
       "\n",
       "                  TOV  \n",
       "TARGET_5Yrs            \n",
       "0.0          0.944732  \n",
       "1.0          1.349031  "
      ]
     },
     "execution_count": 9,
     "metadata": {},
     "output_type": "execute_result"
    }
   ],
   "source": [
    "data.groupby('TARGET_5Yrs').mean()"
   ]
  },
  {
   "cell_type": "markdown",
   "metadata": {},
   "source": [
    "#### Determining good predictors\n",
    "We draw a distribution graph for every variable and compare the distribution for players classified as 0 and the ones classified as 1.\n",
    "We then redraw each graph which seems to indicate a good predictor."
   ]
  },
  {
   "cell_type": "code",
   "execution_count": 10,
   "metadata": {},
   "outputs": [
    {
     "data": {
      "image/png": "[encoded data removed]",
      "text/plain": [
       "<Figure size 432x288 with 20 Axes>"
      ]
     },
     "metadata": {
      "needs_background": "light"
     },
     "output_type": "display_data"
    }
   ],
   "source": [
    "plot_per_line = 2\n",
    "\n",
    "nbr_rows = len(data.columns) // plot_per_line\n",
    "\n",
    "for i in range(len(data.columns) - 1):\n",
    "    ax = plt.subplot(nbr_rows, plot_per_line, (i + 1))\n",
    "    pd.crosstab(data[data.columns[i]], data.TARGET_5Yrs).plot(ax=ax, legend=None)\n",
    "\n",
    "plt.show()"
   ]
  },
  {
   "cell_type": "code",
   "execution_count": 11,
   "metadata": {
    "scrolled": true
   },
   "outputs": [
    {
     "data": {
      "image/png": "[encoded data removed]",
      "text/plain": [
       "<Figure size 432x288 with 1 Axes>"
      ]
     },
     "metadata": {
      "needs_background": "light"
     },
     "output_type": "display_data"
    }
   ],
   "source": [
    "pd.crosstab(data.GP, data.TARGET_5Yrs).plot()\n",
    "plt.show()"
   ]
  },
  {
   "cell_type": "markdown",
   "metadata": {},
   "source": [
    "The number of game played seems to be a good predictor when the number of game played is more than 75"
   ]
  },
  {
   "cell_type": "markdown",
   "metadata": {},
   "source": [
    "#### More data cleaning and normalizing\n",
    "We remove the name column which is meaningless for our model, we also normalize the data using the sklearn library. Finally we split our data into training and test data."
   ]
  },
  {
   "cell_type": "code",
   "execution_count": 16,
   "metadata": {},
   "outputs": [],
   "source": [
    "from sklearn import preprocessing\n",
    "\n",
    "# Select the data\n",
    "X = data.loc[:, data.columns != \"TARGET_5Yrs\"]\n",
    "\n",
    "# Select the labels\n",
    "y = data[\"TARGET_5Yrs\"]\n",
    "\n",
    "# Remove the name column\n",
    "X = X.loc[:, X.columns != \"Name\"]\n",
    "\n",
    "# Normalize the data\n",
    "X = (X - X.mean()) / X.std()"
   ]
  },
  {
   "cell_type": "code",
   "execution_count": 18,
   "metadata": {},
   "outputs": [],
   "source": [
    "from imblearn.over_sampling import SMOTE\n",
    "\n",
    "# Split data into training and test data\n",
    "X_train, X_test, y_train, y_test = train_test_split(X, y, test_size=0.15, random_state=42)\n",
    "\n",
    "os = SMOTE(random_state=0)\n",
    "os_X_train, os_y_train = os.fit_resample(X_train, y_train)\n",
    "os_X_test, os_y_test = os.fit_resample(X_test, y_test)\n",
    "X_train = pd.DataFrame(data=os_X_train, columns=X_train.columns)\n",
    "y_train = pd.DataFrame(data=os_y_train, columns=[\"TARGET_5Yrs\"])\n",
    "#X_test = pd.DataFrame(data=os_X_test, columns=X_test.columns)\n",
    "#y_test = pd.DataFrame(data=os_y_test, columns=[\"TARGET_5Yrs\"])"
   ]
  },
  {
   "cell_type": "code",
   "execution_count": 19,
   "metadata": {},
   "outputs": [
    {
     "data": {
      "image/png": "[encoded data removed]",
      "text/plain": [
       "<Figure size 432x288 with 1 Axes>"
      ]
     },
     "metadata": {
      "needs_background": "light"
     },
     "output_type": "display_data"
    },
    {
     "name": "stdout",
     "output_type": "stream",
     "text": [
      "(1380, 19)\n",
      "(200, 19)\n"
     ]
    }
   ],
   "source": [
    "one_count = y_train.sum()\n",
    "zero_count = len(y_train) - one_count\n",
    "\n",
    "seaborn.countplot(x=\"TARGET_5Yrs\", data=y_train)\n",
    "plt.show()\n",
    "\n",
    "print(X_train.shape)\n",
    "print(X_test.shape)"
   ]
  },
  {
   "cell_type": "markdown",
   "metadata": {},
   "source": [
    "#### Meaningful features selection\n",
    "First we use the statsmodels library to perform logistic regression from a statistic point of view. This library will compute p-values for us and determine which feature are considered significant."
   ]
  },
  {
   "cell_type": "code",
   "execution_count": 21,
   "metadata": {},
   "outputs": [
    {
     "name": "stdout",
     "output_type": "stream",
     "text": [
      "Optimization terminated successfully.\n",
      "         Current function value: 0.567486\n",
      "         Iterations 6\n",
      "                         Results: Logit\n",
      "=================================================================\n",
      "Model:              Logit            Pseudo R-squared: 0.181     \n",
      "Dependent Variable: y                AIC:              1604.2621 \n",
      "Date:               2022-01-08 00:19 BIC:              1703.6290 \n",
      "No. Observations:   1380             Log-Likelihood:   -783.13   \n",
      "Df Model:           18               LL-Null:          -956.54   \n",
      "Df Residuals:       1361             LLR p-value:      1.0366e-62\n",
      "Converged:          1.0000           Scale:            1.0000    \n",
      "No. Iterations:     6.0000                                       \n",
      "-------------------------------------------------------------------\n",
      "           Coef.    Std.Err.      z      P>|z|     [0.025    0.975]\n",
      "-------------------------------------------------------------------\n",
      "GP         0.6402     0.0840    7.6195   0.0000    0.4756    0.8049\n",
      "MIN       -0.4691     0.2697   -1.7394   0.0820   -0.9978    0.0595\n",
      "PTS       -2.0162     3.7853   -0.5327   0.5943   -9.4353    5.4028\n",
      "FGM        0.3412     2.8953    0.1179   0.9062   -5.3334    6.0158\n",
      "FGA        1.6381     0.7975    2.0540   0.0400    0.0750    3.2012\n",
      "FG%        0.3080     0.1294    2.3792   0.0173    0.0543    0.5617\n",
      "3P Made    1.1188     0.5022    2.2277   0.0259    0.1345    2.1031\n",
      "3PA       -0.9338     0.4282   -2.1805   0.0292   -1.7731   -0.0944\n",
      "3P%        0.1721     0.0843    2.0426   0.0411    0.0070    0.3373\n",
      "FTM        1.0033     1.0070    0.9963   0.3191   -0.9705    2.9771\n",
      "FTA       -0.5595     0.6127   -0.9132   0.3611   -1.7603    0.6413\n",
      "FT%        0.0698     0.1089    0.6409   0.5216   -0.1436    0.2833\n",
      "OREB       0.5748     1.0167    0.5654   0.5718   -1.4178    2.5674\n",
      "DREB      -0.6201     1.7635   -0.3516   0.7251   -4.0766    2.8363\n",
      "REB        0.5443     2.6631    0.2044   0.8380   -4.6752    5.7638\n",
      "AST        0.4330     0.1550    2.7942   0.0052    0.1293    0.7368\n",
      "STL        0.0171     0.1242    0.1373   0.8908   -0.2263    0.2604\n",
      "BLK        0.3266     0.1078    3.0298   0.0024    0.1153    0.5379\n",
      "TOV       -0.2037     0.1880   -1.0831   0.2787   -0.5722    0.1649\n",
      "=================================================================\n",
      "\n"
     ]
    }
   ],
   "source": [
    "from sklearn.feature_selection import RFE\n",
    "from sklearn.linear_model import LogisticRegression\n",
    "import statsmodels.api as sm\n",
    "\n",
    "logit_model = sm.Logit(np.asarray(y_train), X_train)\n",
    "result = logit_model.fit()\n",
    "print(result.summary2())"
   ]
  },
  {
   "cell_type": "markdown",
   "metadata": {},
   "source": [
    "#### Interpretation of p-values\n",
    "\n",
    "p-values above 0.05 are not considered statistically significant, hence we can remove the following features MIN, PTS, FGM, 3P%, FTM, FTA, FT%, OREB, DREB, REB, STL, TOV\n",
    "\n",
    "\n",
    "We can also notice that our insight that the feature GP (number of Games Played) will make a good predictor was right. As a matter of fact its p-value is 0.00000. Also the 3P% and TOV are bad predictors as expected (with p-value higher 0.05 hence not statistically significant)."
   ]
  },
  {
   "cell_type": "code",
   "execution_count": 22,
   "metadata": {},
   "outputs": [
    {
     "name": "stdout",
     "output_type": "stream",
     "text": [
      "Optimization terminated successfully.\n",
      "         Current function value: 0.577260\n",
      "         Iterations 6\n",
      "                         Results: Logit\n",
      "=================================================================\n",
      "Model:              Logit            Pseudo R-squared: 0.167     \n",
      "Dependent Variable: y                AIC:              1611.2380 \n",
      "Date:               2022-01-08 00:19 BIC:              1658.3066 \n",
      "No. Observations:   1380             Log-Likelihood:   -796.62   \n",
      "Df Model:           8                LL-Null:          -956.54   \n",
      "Df Residuals:       1371             LLR p-value:      2.4412e-64\n",
      "Converged:          1.0000           Scale:            1.0000    \n",
      "No. Iterations:     6.0000                                       \n",
      "-------------------------------------------------------------------\n",
      "           Coef.    Std.Err.      z      P>|z|     [0.025    0.975]\n",
      "-------------------------------------------------------------------\n",
      "GP         0.6167     0.0825    7.4778   0.0000    0.4551    0.7783\n",
      "MIN       -0.1390     0.1952   -0.7120   0.4765   -0.5216    0.2436\n",
      "FGA        0.4558     0.1667    2.7348   0.0062    0.1291    0.7825\n",
      "FG%        0.1701     0.0776    2.1906   0.0285    0.0179    0.3222\n",
      "3P Made    0.9497     0.3782    2.5110   0.0120    0.2084    1.6910\n",
      "3PA       -0.9981     0.3934   -2.5369   0.0112   -1.7692   -0.2270\n",
      "FT%        0.1006     0.0713    1.4094   0.1587   -0.0393    0.2404\n",
      "AST        0.1409     0.0990    1.4226   0.1549   -0.0532    0.3350\n",
      "BLK        0.3158     0.1019    3.1004   0.0019    0.1162    0.5155\n",
      "=================================================================\n",
      "\n"
     ]
    }
   ],
   "source": [
    "# we only select these features :\n",
    "features = [\"GP\", \"MIN\", \"FGA\", \"FG%\", \"3P Made\", \"3PA\", \"FT%\", \"AST\", \"BLK\"]\n",
    "\n",
    "X_train = X_train[features]\n",
    "X_test = X_test[features]\n",
    "\n",
    "# Split data into training and test data with the new data\n",
    "# X_train, X_test, y_train, y_test = train_test_split(X, y, test_size=0.15, random_state=42)\n",
    "\n",
    "logit_model = sm.Logit(np.asarray(y_train), X_train)\n",
    "result = logit_model.fit()\n",
    "print(result.summary2())"
   ]
  },
  {
   "cell_type": "markdown",
   "metadata": {},
   "source": [
    "## 2 - Model fitting\n",
    "Now that the data is cleaned, and only meaningful features are selected, we can run the logistic regression algorithm with the sklearn."
   ]
  },
  {
   "cell_type": "code",
   "execution_count": 23,
   "metadata": {},
   "outputs": [
    {
     "name": "stdout",
     "output_type": "stream",
     "text": [
      "0.705\n"
     ]
    },
    {
     "name": "stderr",
     "output_type": "stream",
     "text": [
      "C:\\Users\\Paul\\miniconda3\\lib\\site-packages\\sklearn\\utils\\validation.py:72: DataConversionWarning: A column-vector y was passed when a 1d array was expected. Please change the shape of y to (n_samples, ), for example using ravel().\n",
      "  return f(**kwargs)\n"
     ]
    }
   ],
   "source": [
    "from sklearn.linear_model import LogisticRegression\n",
    "from sklearn import metrics\n",
    "\n",
    "logreg = LogisticRegression(max_iter=200)\n",
    "logreg.fit(X_train, y_train)\n",
    "\n",
    "print(logreg.score(X_test, y_test))"
   ]
  },
  {
   "cell_type": "markdown",
   "metadata": {},
   "source": [
    "## 3 - Model evaluation\n",
    "We compute the confusion matrix, precision, recall and f1-score."
   ]
  },
  {
   "cell_type": "code",
   "execution_count": 26,
   "metadata": {},
   "outputs": [
    {
     "name": "stdout",
     "output_type": "stream",
     "text": [
      "[[49 15]\n",
      " [44 92]]\n",
      "Sensitivity :  0.6764705882352942\n",
      "Specificity :  0.765625\n"
     ]
    }
   ],
   "source": [
    "from sklearn.metrics import confusion_matrix\n",
    "\n",
    "y_pred = logreg.predict(X_test)\n",
    "confusion_matrix = confusion_matrix(y_test, y_pred)\n",
    "tn, fp, fn, tp = confusion_matrix.ravel()\n",
    "print(confusion_matrix)\n",
    "sensitivity = tp / (tp + fn)\n",
    "specificity = tn / (tn + fp)\n",
    "print(\"Sensitivity : \", sensitivity)\n",
    "print(\"Specificity : \", specificity)"
   ]
  },
  {
   "cell_type": "code",
   "execution_count": 25,
   "metadata": {},
   "outputs": [
    {
     "name": "stdout",
     "output_type": "stream",
     "text": [
      "              precision    recall  f1-score   support\n",
      "\n",
      "         0.0       0.53      0.77      0.62        64\n",
      "         1.0       0.86      0.68      0.76       136\n",
      "\n",
      "    accuracy                           0.70       200\n",
      "   macro avg       0.69      0.72      0.69       200\n",
      "weighted avg       0.75      0.70      0.71       200\n",
      "\n"
     ]
    }
   ],
   "source": [
    "from sklearn.metrics import classification_report\n",
    "print(classification_report(y_test, y_pred))"
   ]
  },
  {
   "cell_type": "markdown",
   "metadata": {},
   "source": [
    "#### Interpretation of precision and recall for our model\n",
    "\n",
    "Recall is a way higher for class 0 than class 1 which means our classifier might do a better job at catching all unsuccessful players insthead of successful ones but half of the players classified as successful might be successful.\n",
    "\n",
    "For class 1 precision is very high which means that our classifier will most likely be correct when classifying a player as successful but might not catch all of them."
   ]
  },
  {
   "cell_type": "code",
   "execution_count": 37,
   "metadata": {},
   "outputs": [
    {
     "data": {
      "image/png": "[encoded data removed]",
      "text/plain": [
       "<Figure size 432x288 with 1 Axes>"
      ]
     },
     "metadata": {
      "needs_background": "light"
     },
     "output_type": "display_data"
    },
    {
     "data": {
      "image/png": "[encoded data removed]",
      "text/plain": [
       "<Figure size 432x288 with 1 Axes>"
      ]
     },
     "metadata": {
      "needs_background": "light"
     },
     "output_type": "display_data"
    }
   ],
   "source": [
    "# Calculate ROC curve\n",
    "plt.title(\"ROC curve\")\n",
    "plt.xlabel(\"False positive rate\")\n",
    "plt.ylabel(\"True positive rate\")\n",
    "fpr, tpr, threshold = metrics.roc_curve(y_test, y_pred)\n",
    "plt.plot(fpr, tpr, color=\"purple\")\n",
    "plt.show()\n",
    "\n",
    "# Calculate precision-recall curve\n",
    "plt.title(\"Precision-recall curve\")\n",
    "plt.xlabel(\"Recall\")\n",
    "plt.ylabel(\"Precision\")\n",
    "precision, recall, thresholds = metrics.precision_recall_curve(y_test, y_pred)\n",
    "plt.plot(recall, precision, color=\"orange\")\n",
    "plt.show()"
   ]
  },
  {
   "cell_type": "markdown",
   "metadata": {},
   "source": [
    "## 4 - Using the classifier to predict success of 2020-2021 rookies in the NBA\n",
    "First we download statistics of 2021 rookies for the 2020-2021 season at https://www.basketball-reference.com/leagues/NBA_2021_per_game.html\n",
    "\n"
   ]
  },
  {
   "cell_type": "code",
   "execution_count": 260,
   "metadata": {},
   "outputs": [
    {
     "name": "stdout",
     "output_type": "stream",
     "text": [
      "                                Player    0\n",
      "0           Precious Achiuwa\\achiupr01  1.0\n",
      "2               Steven Adams\\adamsst01  1.0\n",
      "3                Bam Adebayo\\adebaba01  1.0\n",
      "4          LaMarcus Aldridge\\aldrila01  1.0\n",
      "5          LaMarcus Aldridge\\aldrila01  1.0\n",
      "6          LaMarcus Aldridge\\aldrila01  0.0\n",
      "7          Ty-Shon Alexander\\alexaty01  1.0\n",
      "8   Nickeil Alexander-Walker\\alexani01  1.0\n",
      "9              Grayson Allen\\allengr01  1.0\n",
      "10             Jarrett Allen\\allenja01  1.0\n",
      "12             Jarrett Allen\\allenja01  0.0\n",
      "13           Al-Farouq Aminu\\aminual01  0.0\n",
      "14           Al-Farouq Aminu\\aminual01  1.0\n",
      "15           Al-Farouq Aminu\\aminual01  1.0\n",
      "16             Kyle Anderson\\anderky01  1.0\n",
      "17     Giannis Antetokounmpo\\antetgi01  1.0\n",
      "19    Thanasis Antetokounmpo\\antetth01  1.0\n",
      "20           Carmelo Anthony\\anthoca01  0.0\n",
      "21              Cole Anthony\\anthoco01  0.0\n",
      "22                OG Anunoby\\anunoog01  1.0\n"
     ]
    }
   ],
   "source": [
    "data2 = pd.read_csv(\"datasets/2020_rookies.csv\")\n",
    "data2.rename(columns={\"G\": \"GP\", \"MP\": \"MIN\", \"3P\": \"3P Made\"}, inplace=True)\n",
    "\n",
    "data2 = data2.dropna()\n",
    "X2 = data2[features]\n",
    "\n",
    "X2 = (X2 - X2.mean()) / X2.std()\n",
    "\n",
    "y_pred = pd.Series(logreg.predict(X2))\n",
    "preds = pd.concat([data2[\"Player\"], y_pred], axis=1)\n",
    "preds = preds.dropna()\n",
    "\n",
    "\n",
    "print(preds.head(20))"
   ]
  },
  {
   "cell_type": "markdown",
   "metadata": {},
   "source": [
    "## 5 - Conclusion\n",
    "During the model evaluation we observed a very high precision for class 1 which means that if our model classify a player as 0 then he will most likely be successful. On the other hand precision is very low for class 0 so we cannot draw any conclusion on a player carrer if he is classified as 0 by our model."
   ]
  },
  {
   "cell_type": "code",
   "execution_count": null,
   "metadata": {},
   "outputs": [],
   "source": []
  }
 ],
 "metadata": {
  "kernelspec": {
   "display_name": "Python 3",
   "language": "python",
   "name": "python3"
  },
  "language_info": {
   "codemirror_mode": {
    "name": "ipython",
    "version": 3
   },
   "file_extension": ".py",
   "mimetype": "text/x-python",
   "name": "python",
   "nbconvert_exporter": "python",
   "pygments_lexer": "ipython3",
   "version": "3.8.3"
  }
 },
 "nbformat": 4,
 "nbformat_minor": 5
}
